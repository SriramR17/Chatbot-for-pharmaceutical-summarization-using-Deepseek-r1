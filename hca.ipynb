{
 "cells": [
  {
   "cell_type": "code",
   "execution_count": 1,
   "metadata": {},
   "outputs": [],
   "source": [
    "import ollama\n",
    "from langchain_ollama import ChatOllama"
   ]
  },
  {
   "cell_type": "code",
   "execution_count": 6,
   "metadata": {},
   "outputs": [],
   "source": [
    "llm=ChatOllama(\n",
    "    model='deepseek-r1:8b',\n",
    "    temperature=0.7,\n",
    ")"
   ]
  },
  {
   "cell_type": "code",
   "execution_count": 8,
   "metadata": {},
   "outputs": [
    {
     "data": {
      "text/plain": [
       "AIMessage(content=\"<think>\\nOkay, so the user is asking me to write a four-line poem about the solar system. Hmm, let's see how I can approach this. First, I need to make sure each line is concise and captures an aspect of the solar system.\\n\\nI'll start by thinking about planets. Mercury, Venus, Earth, Mars—all part of our solar system. Maybe include those in the first lines. Then, considering elements like stars and asteroids add depth. \\n\\nNext, I should think about something more abstract—like the universe's vastness or infinity. Maybe something with light or wonder to give it a poetic touch. \\n\\nI need to make sure each line flows well and the poem feels cohesive. Let me try putting it all together.\\n\\nWait, maybe I can use some imagery related to space travel or exploration to add a creative angle. Yeah, that should work. Alright, let's draft it out.\\n</think>\\n\\nIn the expanse of stars, where planets roam,  \\nMercury scurries, Venus wears her cloak,  \\nEarth stands tall with mountains in her hair,  \\nWhile Mars, once fierce, now lies quiet and cold.  \\n\\nBeneath the sun's embracing glow,  \\nAsteroids drift like shadows in the night,  \\nWhile comets streak through space, a celestial show,  \\nAnd deep within, the universe feels right.\", additional_kwargs={}, response_metadata={'model': 'deepseek-r1:8b', 'created_at': '2025-02-21T17:14:50.9822115Z', 'done': True, 'done_reason': 'stop', 'total_duration': 48642733800, 'load_duration': 26344200, 'prompt_eval_count': 22, 'prompt_eval_duration': 495000000, 'eval_count': 276, 'eval_duration': 48119000000, 'message': Message(role='assistant', content='', images=None, tool_calls=None)}, id='run-8b91c8c3-87f3-473b-8f65-9c5f3e53e9ee-0', usage_metadata={'input_tokens': 22, 'output_tokens': 276, 'total_tokens': 298})"
      ]
     },
     "execution_count": 8,
     "metadata": {},
     "output_type": "execute_result"
    }
   ],
   "source": [
    "from langchain_core.messages import AIMessage\n",
    "\n",
    "messages=[\n",
    "   (\n",
    "       'system',\n",
    "       'you are a helpful assistant that can write creative poems',\n",
    "   ) ,\n",
    "   ('human','write a 4 line poem on solar system')\n",
    "]\n",
    "\n",
    "ai_msg=llm.invoke(messages)\n",
    "ai_msg"
   ]
  },
  {
   "cell_type": "code",
   "execution_count": 2,
   "metadata": {},
   "outputs": [
    {
     "name": "stdout",
     "output_type": "stream",
     "text": [
      "<think>\n",
      "Okay, so the user wants a four-line poem about the solar system. Hmm, let me break this down.\n",
      "\n",
      "First, I need to capture the essence of the solar system in just four lines. That's concise but meaningful. Maybe start by mentioning the Sun since it's the center.\n",
      "\n",
      "Next, include some planets. Earth is always a good choice because it's familiar and represents life. But then, maybe add another planet like Saturn with its rings for visual interest.\n",
      "\n",
      "I should think about the scale—how vast the solar system is. Words like \"vast\" or \"wider reaches\" could convey that.\n",
      "\n",
      "Lastly, I want to evoke a sense of exploration or wonder. Phrases like \"boundless\" and \"wonder\" might work well here.\n",
      "\n",
      "Putting it all together: Start with the Sun, mention Earth, then another planet, highlight the scale, and end with the feeling of exploring something vast.\n",
      "</think>\n",
      "\n",
      "The sun at the center, glowing bright,  \n",
      "Planets orbit, from Earth to Saturn's night.  \n",
      "A universe unfolds in endless space,  \n",
      "Exploring the boundless reaches of our place.\n"
     ]
    }
   ],
   "source": [
    "response = ollama.chat(\n",
    "    model='deepseek-r1:8b',\n",
    "    messages=[{'role': 'user', 'content': 'write a 4 line poem on solar system'}]\n",
    ")\n",
    "\n",
    "print(response['message']['content'])"
   ]
  },
  {
   "cell_type": "code",
   "execution_count": null,
   "metadata": {},
   "outputs": [],
   "source": []
  }
 ],
 "metadata": {
  "kernelspec": {
   "display_name": "computervision",
   "language": "python",
   "name": "python3"
  },
  "language_info": {
   "codemirror_mode": {
    "name": "ipython",
    "version": 3
   },
   "file_extension": ".py",
   "mimetype": "text/x-python",
   "name": "python",
   "nbconvert_exporter": "python",
   "pygments_lexer": "ipython3",
   "version": "3.10.16"
  }
 },
 "nbformat": 4,
 "nbformat_minor": 2
}
