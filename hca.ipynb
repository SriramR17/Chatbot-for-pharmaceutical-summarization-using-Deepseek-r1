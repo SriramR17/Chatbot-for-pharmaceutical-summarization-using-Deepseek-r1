{
 "cells": [
  {
   "cell_type": "code",
   "execution_count": 1,
   "metadata": {},
   "outputs": [],
   "source": [
    "import ollama\n",
    "from langchain_ollama import ChatOllama"
   ]
  },
  {
   "cell_type": "code",
   "execution_count": 2,
   "metadata": {},
   "outputs": [],
   "source": [
    "llm=ChatOllama(\n",
    "    model='phi4',\n",
    "    temperature=0.7,\n",
    ")"
   ]
  },
  {
   "cell_type": "code",
   "execution_count": 4,
   "metadata": {},
   "outputs": [
    {
     "data": {
      "text/plain": [
       "AIMessage(content=\"In the cosmic dance of night, planets align,  \\nEach with a tale in the vast starry design.  \\nGolden Sun leads, with its radiant beam,  \\nWaltzing through space, like a dream within a dream.  \\n\\nFeel free to let me know if you'd like any adjustments!\", additional_kwargs={}, response_metadata={'model': 'phi4', 'created_at': '2025-02-24T15:31:58.0077063Z', 'done': True, 'done_reason': 'stop', 'total_duration': 22292172500, 'load_duration': 44441500, 'prompt_eval_count': 35, 'prompt_eval_duration': 2405000000, 'eval_count': 61, 'eval_duration': 19453000000, 'message': Message(role='assistant', content='', images=None, tool_calls=None)}, id='run-69d0a1ee-907e-4bed-be03-e9b310500174-0', usage_metadata={'input_tokens': 35, 'output_tokens': 61, 'total_tokens': 96})"
      ]
     },
     "execution_count": 4,
     "metadata": {},
     "output_type": "execute_result"
    }
   ],
   "source": [
    "from langchain_core.messages import AIMessage\n",
    "\n",
    "messages=[\n",
    "   (\n",
    "       'system',\n",
    "       'you are a helpful assistant that can write creative poems',\n",
    "   ) ,\n",
    "   ('human','write a 4 line poem on solar system')\n",
    "]\n",
    "\n",
    "ai_msg=llm.invoke(messages)\n",
    "ai_msg"
   ]
  },
  {
   "cell_type": "code",
   "execution_count": 5,
   "metadata": {},
   "outputs": [
    {
     "name": "stdout",
     "output_type": "stream",
     "text": [
      "In the vast cosmic sea, planets align and sway,  \n",
      "Orbiting Sun, in an eternal ballet.  \n",
      "Moons whisper secrets to their celestial kin,  \n",
      "A harmonious dance where life’s wonders begin.\n"
     ]
    }
   ],
   "source": [
    "response = ollama.chat(\n",
    "    model='phi4',\n",
    "    messages=[{'role': 'user', 'content': 'write a 4 line poem on solar system'}]\n",
    ")\n",
    "\n",
    "print(response['message']['content'])"
   ]
  },
  {
   "cell_type": "code",
   "execution_count": 1,
   "metadata": {},
   "outputs": [
    {
     "name": "stderr",
     "output_type": "stream",
     "text": [
      "C:\\Users\\Sriram\\AppData\\Local\\Temp\\ipykernel_21320\\4177110315.py:2: LangChainDeprecationWarning: The class `Ollama` was deprecated in LangChain 0.3.1 and will be removed in 1.0.0. An updated version of the class exists in the :class:`~langchain-ollama package and should be used instead. To use it run `pip install -U :class:`~langchain-ollama` and import as `from :class:`~langchain_ollama import OllamaLLM``.\n",
      "  ollama=Ollama(base_url='http://localhost:11434',model='sars')\n",
      "C:\\Users\\Sriram\\AppData\\Local\\Temp\\ipykernel_21320\\4177110315.py:3: LangChainDeprecationWarning: The method `BaseLLM.__call__` was deprecated in langchain-core 0.1.7 and will be removed in 1.0. Use :meth:`~invoke` instead.\n",
      "  print(ollama(\"why am i irritated\"))\n"
     ]
    },
    {
     "name": "stdout",
     "output_type": "stream",
     "text": [
      "Sometimes we all feel irritated, frustrated, or just plain grumpy. There can be many reasons why you might be feeling this way.\n",
      "\n",
      "Let's try to explore some possible reasons together:\n",
      "\n",
      "1. **Stress**: Are you dealing with anything overwhelming or stressful in your life right now?\n",
      "2. **Emotional overload**: Have you been feeling overwhelmed by emotions lately, like sadness, anxiety, or anger?\n",
      "3. **Physical discomfort**: Are you physically tired, hungry, or uncomfortable?\n",
      "4. **Social stressors**: Did something happen recently that made you feel stressed or irritated in a social situation?\n",
      "\n",
      "Take a deep breath and let's try to break it down together. Sometimes talking about what's bothering us can help us feel better.\n",
      "\n",
      "If you're willing, could you tell me more about what's been going on and how you've been feeling? I'm here to listen and offer support!\n"
     ]
    }
   ],
   "source": [
    "from langchain.llms import Ollama\n",
    "ollama=Ollama(base_url='http://localhost:11434',model='sars')\n",
    "print(ollama(\"why am i irritated\"))"
   ]
  },
  {
   "cell_type": "code",
   "execution_count": null,
   "metadata": {},
   "outputs": [],
   "source": []
  }
 ],
 "metadata": {
  "kernelspec": {
   "display_name": "computervision",
   "language": "python",
   "name": "python3"
  },
  "language_info": {
   "codemirror_mode": {
    "name": "ipython",
    "version": 3
   },
   "file_extension": ".py",
   "mimetype": "text/x-python",
   "name": "python",
   "nbconvert_exporter": "python",
   "pygments_lexer": "ipython3",
   "version": "3.10.16"
  }
 },
 "nbformat": 4,
 "nbformat_minor": 2
}
